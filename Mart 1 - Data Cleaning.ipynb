{
 "cells": [
  {
   "cell_type": "code",
   "execution_count": 1,
   "metadata": {
    "collapsed": true
   },
   "outputs": [],
   "source": [
    "import pandas as pd\n",
    "import numpy as np\n",
    "import matplotlib.pyplot as plt\n",
    "import seaborn as sns\n",
    "\n",
    "%matplotlib inline\n",
    "\n",
    "loc = r\"C:\\Users\\me\\Documents\\datasets\\black_train.csv\"\n",
    "loc2 = r\"C:\\Users\\me\\Documents\\datasets\\black_test.csv\"\n",
    "\n",
    "train = pd.read_csv(loc)\n",
    "test = pd.read_csv(loc2)"
   ]
  },
  {
   "cell_type": "code",
   "execution_count": 2,
   "metadata": {
    "collapsed": false
   },
   "outputs": [
    {
     "data": {
      "text/html": [
       "<div>\n",
       "<table border=\"1\" class=\"dataframe\">\n",
       "  <thead>\n",
       "    <tr style=\"text-align: right;\">\n",
       "      <th></th>\n",
       "      <th>User_ID</th>\n",
       "      <th>Product_ID</th>\n",
       "      <th>Gender</th>\n",
       "      <th>Age</th>\n",
       "      <th>Occupation</th>\n",
       "      <th>City_Category</th>\n",
       "      <th>Stay_In_Current_City_Years</th>\n",
       "      <th>Marital_Status</th>\n",
       "      <th>Product_Category_1</th>\n",
       "      <th>Product_Category_2</th>\n",
       "      <th>Product_Category_3</th>\n",
       "      <th>Purchase</th>\n",
       "    </tr>\n",
       "  </thead>\n",
       "  <tbody>\n",
       "    <tr>\n",
       "      <th>0</th>\n",
       "      <td>1000001</td>\n",
       "      <td>P00069042</td>\n",
       "      <td>F</td>\n",
       "      <td>0-17</td>\n",
       "      <td>10</td>\n",
       "      <td>A</td>\n",
       "      <td>2</td>\n",
       "      <td>0</td>\n",
       "      <td>3</td>\n",
       "      <td>NaN</td>\n",
       "      <td>NaN</td>\n",
       "      <td>8370</td>\n",
       "    </tr>\n",
       "    <tr>\n",
       "      <th>1</th>\n",
       "      <td>1000001</td>\n",
       "      <td>P00248942</td>\n",
       "      <td>F</td>\n",
       "      <td>0-17</td>\n",
       "      <td>10</td>\n",
       "      <td>A</td>\n",
       "      <td>2</td>\n",
       "      <td>0</td>\n",
       "      <td>1</td>\n",
       "      <td>6.0</td>\n",
       "      <td>14.0</td>\n",
       "      <td>15200</td>\n",
       "    </tr>\n",
       "    <tr>\n",
       "      <th>2</th>\n",
       "      <td>1000001</td>\n",
       "      <td>P00087842</td>\n",
       "      <td>F</td>\n",
       "      <td>0-17</td>\n",
       "      <td>10</td>\n",
       "      <td>A</td>\n",
       "      <td>2</td>\n",
       "      <td>0</td>\n",
       "      <td>12</td>\n",
       "      <td>NaN</td>\n",
       "      <td>NaN</td>\n",
       "      <td>1422</td>\n",
       "    </tr>\n",
       "    <tr>\n",
       "      <th>3</th>\n",
       "      <td>1000001</td>\n",
       "      <td>P00085442</td>\n",
       "      <td>F</td>\n",
       "      <td>0-17</td>\n",
       "      <td>10</td>\n",
       "      <td>A</td>\n",
       "      <td>2</td>\n",
       "      <td>0</td>\n",
       "      <td>12</td>\n",
       "      <td>14.0</td>\n",
       "      <td>NaN</td>\n",
       "      <td>1057</td>\n",
       "    </tr>\n",
       "    <tr>\n",
       "      <th>4</th>\n",
       "      <td>1000002</td>\n",
       "      <td>P00285442</td>\n",
       "      <td>M</td>\n",
       "      <td>55+</td>\n",
       "      <td>16</td>\n",
       "      <td>C</td>\n",
       "      <td>4+</td>\n",
       "      <td>0</td>\n",
       "      <td>8</td>\n",
       "      <td>NaN</td>\n",
       "      <td>NaN</td>\n",
       "      <td>7969</td>\n",
       "    </tr>\n",
       "  </tbody>\n",
       "</table>\n",
       "</div>"
      ],
      "text/plain": [
       "   User_ID Product_ID Gender   Age  Occupation City_Category  \\\n",
       "0  1000001  P00069042      F  0-17          10             A   \n",
       "1  1000001  P00248942      F  0-17          10             A   \n",
       "2  1000001  P00087842      F  0-17          10             A   \n",
       "3  1000001  P00085442      F  0-17          10             A   \n",
       "4  1000002  P00285442      M   55+          16             C   \n",
       "\n",
       "  Stay_In_Current_City_Years  Marital_Status  Product_Category_1  \\\n",
       "0                          2               0                   3   \n",
       "1                          2               0                   1   \n",
       "2                          2               0                  12   \n",
       "3                          2               0                  12   \n",
       "4                         4+               0                   8   \n",
       "\n",
       "   Product_Category_2  Product_Category_3  Purchase  \n",
       "0                 NaN                 NaN      8370  \n",
       "1                 6.0                14.0     15200  \n",
       "2                 NaN                 NaN      1422  \n",
       "3                14.0                 NaN      1057  \n",
       "4                 NaN                 NaN      7969  "
      ]
     },
     "execution_count": 2,
     "metadata": {},
     "output_type": "execute_result"
    }
   ],
   "source": [
    "train.head()"
   ]
  },
  {
   "cell_type": "code",
   "execution_count": 3,
   "metadata": {
    "collapsed": false
   },
   "outputs": [
    {
     "data": {
      "text/html": [
       "<div>\n",
       "<table border=\"1\" class=\"dataframe\">\n",
       "  <thead>\n",
       "    <tr style=\"text-align: right;\">\n",
       "      <th></th>\n",
       "      <th>Unnamed: 0</th>\n",
       "      <th>User_ID</th>\n",
       "      <th>Product_ID</th>\n",
       "      <th>Gender</th>\n",
       "      <th>Age</th>\n",
       "      <th>Occupation</th>\n",
       "      <th>City_Category</th>\n",
       "      <th>Stay_In_Current_City_Years</th>\n",
       "      <th>Marital_Status</th>\n",
       "      <th>Product_Category_1</th>\n",
       "      <th>Product_Category_2</th>\n",
       "      <th>Product_Category_3</th>\n",
       "      <th>Comb</th>\n",
       "    </tr>\n",
       "  </thead>\n",
       "  <tbody>\n",
       "    <tr>\n",
       "      <th>0</th>\n",
       "      <td>0</td>\n",
       "      <td>1000004</td>\n",
       "      <td>P00128942</td>\n",
       "      <td>M</td>\n",
       "      <td>46-50</td>\n",
       "      <td>7</td>\n",
       "      <td>B</td>\n",
       "      <td>2</td>\n",
       "      <td>0</td>\n",
       "      <td>1</td>\n",
       "      <td>11.0</td>\n",
       "      <td>NaN</td>\n",
       "      <td>1000004P00128942</td>\n",
       "    </tr>\n",
       "    <tr>\n",
       "      <th>1</th>\n",
       "      <td>1</td>\n",
       "      <td>1000009</td>\n",
       "      <td>P00113442</td>\n",
       "      <td>M</td>\n",
       "      <td>26-35</td>\n",
       "      <td>17</td>\n",
       "      <td>C</td>\n",
       "      <td>0</td>\n",
       "      <td>0</td>\n",
       "      <td>3</td>\n",
       "      <td>5.0</td>\n",
       "      <td>NaN</td>\n",
       "      <td>1000009P00113442</td>\n",
       "    </tr>\n",
       "    <tr>\n",
       "      <th>2</th>\n",
       "      <td>2</td>\n",
       "      <td>1000010</td>\n",
       "      <td>P00288442</td>\n",
       "      <td>F</td>\n",
       "      <td>36-45</td>\n",
       "      <td>1</td>\n",
       "      <td>B</td>\n",
       "      <td>4+</td>\n",
       "      <td>0</td>\n",
       "      <td>5</td>\n",
       "      <td>14.0</td>\n",
       "      <td>NaN</td>\n",
       "      <td>1000010P00288442</td>\n",
       "    </tr>\n",
       "    <tr>\n",
       "      <th>3</th>\n",
       "      <td>3</td>\n",
       "      <td>1000010</td>\n",
       "      <td>P00145342</td>\n",
       "      <td>F</td>\n",
       "      <td>36-45</td>\n",
       "      <td>1</td>\n",
       "      <td>B</td>\n",
       "      <td>4+</td>\n",
       "      <td>0</td>\n",
       "      <td>4</td>\n",
       "      <td>9.0</td>\n",
       "      <td>NaN</td>\n",
       "      <td>1000010P00145342</td>\n",
       "    </tr>\n",
       "    <tr>\n",
       "      <th>4</th>\n",
       "      <td>4</td>\n",
       "      <td>1000011</td>\n",
       "      <td>P00053842</td>\n",
       "      <td>F</td>\n",
       "      <td>26-35</td>\n",
       "      <td>1</td>\n",
       "      <td>C</td>\n",
       "      <td>1</td>\n",
       "      <td>0</td>\n",
       "      <td>4</td>\n",
       "      <td>5.0</td>\n",
       "      <td>12.0</td>\n",
       "      <td>1000011P00053842</td>\n",
       "    </tr>\n",
       "  </tbody>\n",
       "</table>\n",
       "</div>"
      ],
      "text/plain": [
       "   Unnamed: 0  User_ID Product_ID Gender    Age  Occupation City_Category  \\\n",
       "0           0  1000004  P00128942      M  46-50           7             B   \n",
       "1           1  1000009  P00113442      M  26-35          17             C   \n",
       "2           2  1000010  P00288442      F  36-45           1             B   \n",
       "3           3  1000010  P00145342      F  36-45           1             B   \n",
       "4           4  1000011  P00053842      F  26-35           1             C   \n",
       "\n",
       "  Stay_In_Current_City_Years  Marital_Status  Product_Category_1  \\\n",
       "0                          2               0                   1   \n",
       "1                          0               0                   3   \n",
       "2                         4+               0                   5   \n",
       "3                         4+               0                   4   \n",
       "4                          1               0                   4   \n",
       "\n",
       "   Product_Category_2  Product_Category_3              Comb  \n",
       "0                11.0                 NaN  1000004P00128942  \n",
       "1                 5.0                 NaN  1000009P00113442  \n",
       "2                14.0                 NaN  1000010P00288442  \n",
       "3                 9.0                 NaN  1000010P00145342  \n",
       "4                 5.0                12.0  1000011P00053842  "
      ]
     },
     "execution_count": 3,
     "metadata": {},
     "output_type": "execute_result"
    }
   ],
   "source": [
    "test.head()"
   ]
  },
  {
   "cell_type": "code",
   "execution_count": 4,
   "metadata": {
    "collapsed": true
   },
   "outputs": [],
   "source": [
    "#Drop the redundant 'Unnamed: 0' from the test set.\n",
    "#The comb column is a combination of the User_ID and Product_ID columns.\n",
    "#We can remove this column too.\n",
    "test = test.drop(['Unnamed: 0','Comb'], axis=1)"
   ]
  },
  {
   "cell_type": "code",
   "execution_count": 5,
   "metadata": {
    "collapsed": true
   },
   "outputs": [],
   "source": [
    "#Combine the train and test sets to give the full data set.\n",
    "data = pd.concat([train, test], ignore_index=True)"
   ]
  },
  {
   "cell_type": "code",
   "execution_count": 6,
   "metadata": {
    "collapsed": false
   },
   "outputs": [
    {
     "name": "stdout",
     "output_type": "stream",
     "text": [
      "(550068, 12) (233599, 11) (783667, 12)\n"
     ]
    }
   ],
   "source": [
    "print (train.shape, test.shape, data.shape)"
   ]
  },
  {
   "cell_type": "code",
   "execution_count": 7,
   "metadata": {
    "collapsed": false
   },
   "outputs": [
    {
     "data": {
      "text/plain": [
       "Age                                0\n",
       "City_Category                      0\n",
       "Gender                             0\n",
       "Marital_Status                     0\n",
       "Occupation                         0\n",
       "Product_Category_1                 0\n",
       "Product_Category_2            245982\n",
       "Product_Category_3            545809\n",
       "Product_ID                         0\n",
       "Purchase                      233599\n",
       "Stay_In_Current_City_Years         0\n",
       "User_ID                            0\n",
       "dtype: int64"
      ]
     },
     "execution_count": 7,
     "metadata": {},
     "output_type": "execute_result"
    }
   ],
   "source": [
    "#We have a large data set with a total of 783,667 rows and 12 columns.\n",
    "#Let's check which columns contain missing values.\n",
    "\n",
    "data.apply(lambda x: sum(x.isnull()))"
   ]
  },
  {
   "cell_type": "code",
   "execution_count": 8,
   "metadata": {
    "collapsed": true
   },
   "outputs": [],
   "source": [
    "#We have nulls in three columns: Product_Category_1, Product_Category_2 and\n",
    "#Purchase. The nulls in the purchase column are easy to explain as they are the target we are \n",
    "#trying to predict. The other nulls are not necessarily a problem because a product may have \n",
    "#several categories (1 to 3. Therefore nulls in these columns are to be expected."
   ]
  },
  {
   "cell_type": "code",
   "execution_count": 9,
   "metadata": {
    "collapsed": false
   },
   "outputs": [
    {
     "name": "stderr",
     "output_type": "stream",
     "text": [
      "C:\\Anaconda3\\lib\\site-packages\\numpy\\lib\\function_base.py:3834: RuntimeWarning: Invalid value encountered in percentile\n",
      "  RuntimeWarning)\n"
     ]
    },
    {
     "data": {
      "text/html": [
       "<div>\n",
       "<table border=\"1\" class=\"dataframe\">\n",
       "  <thead>\n",
       "    <tr style=\"text-align: right;\">\n",
       "      <th></th>\n",
       "      <th>Marital_Status</th>\n",
       "      <th>Occupation</th>\n",
       "      <th>Product_Category_1</th>\n",
       "      <th>Product_Category_2</th>\n",
       "      <th>Product_Category_3</th>\n",
       "      <th>Purchase</th>\n",
       "      <th>User_ID</th>\n",
       "    </tr>\n",
       "  </thead>\n",
       "  <tbody>\n",
       "    <tr>\n",
       "      <th>count</th>\n",
       "      <td>783667.000000</td>\n",
       "      <td>783667.000000</td>\n",
       "      <td>783667.000000</td>\n",
       "      <td>537685.000000</td>\n",
       "      <td>237858.000000</td>\n",
       "      <td>550068.000000</td>\n",
       "      <td>7.836670e+05</td>\n",
       "    </tr>\n",
       "    <tr>\n",
       "      <th>mean</th>\n",
       "      <td>0.287542</td>\n",
       "      <td>8.079300</td>\n",
       "      <td>5.366196</td>\n",
       "      <td>9.844506</td>\n",
       "      <td>12.668605</td>\n",
       "      <td>9263.968713</td>\n",
       "      <td>1.003029e+06</td>\n",
       "    </tr>\n",
       "    <tr>\n",
       "      <th>std</th>\n",
       "      <td>0.452617</td>\n",
       "      <td>6.522206</td>\n",
       "      <td>3.878160</td>\n",
       "      <td>5.089093</td>\n",
       "      <td>4.125510</td>\n",
       "      <td>5023.065394</td>\n",
       "      <td>1.727267e+03</td>\n",
       "    </tr>\n",
       "    <tr>\n",
       "      <th>min</th>\n",
       "      <td>0.000000</td>\n",
       "      <td>0.000000</td>\n",
       "      <td>1.000000</td>\n",
       "      <td>2.000000</td>\n",
       "      <td>3.000000</td>\n",
       "      <td>12.000000</td>\n",
       "      <td>1.000001e+06</td>\n",
       "    </tr>\n",
       "    <tr>\n",
       "      <th>25%</th>\n",
       "      <td>0.000000</td>\n",
       "      <td>2.000000</td>\n",
       "      <td>1.000000</td>\n",
       "      <td>NaN</td>\n",
       "      <td>NaN</td>\n",
       "      <td>NaN</td>\n",
       "      <td>1.001519e+06</td>\n",
       "    </tr>\n",
       "    <tr>\n",
       "      <th>50%</th>\n",
       "      <td>0.000000</td>\n",
       "      <td>7.000000</td>\n",
       "      <td>5.000000</td>\n",
       "      <td>NaN</td>\n",
       "      <td>NaN</td>\n",
       "      <td>NaN</td>\n",
       "      <td>1.003075e+06</td>\n",
       "    </tr>\n",
       "    <tr>\n",
       "      <th>75%</th>\n",
       "      <td>1.000000</td>\n",
       "      <td>14.000000</td>\n",
       "      <td>8.000000</td>\n",
       "      <td>NaN</td>\n",
       "      <td>NaN</td>\n",
       "      <td>NaN</td>\n",
       "      <td>1.004478e+06</td>\n",
       "    </tr>\n",
       "    <tr>\n",
       "      <th>max</th>\n",
       "      <td>1.000000</td>\n",
       "      <td>20.000000</td>\n",
       "      <td>20.000000</td>\n",
       "      <td>18.000000</td>\n",
       "      <td>18.000000</td>\n",
       "      <td>23961.000000</td>\n",
       "      <td>1.006040e+06</td>\n",
       "    </tr>\n",
       "  </tbody>\n",
       "</table>\n",
       "</div>"
      ],
      "text/plain": [
       "       Marital_Status     Occupation  Product_Category_1  Product_Category_2  \\\n",
       "count   783667.000000  783667.000000       783667.000000       537685.000000   \n",
       "mean         0.287542       8.079300            5.366196            9.844506   \n",
       "std          0.452617       6.522206            3.878160            5.089093   \n",
       "min          0.000000       0.000000            1.000000            2.000000   \n",
       "25%          0.000000       2.000000            1.000000                 NaN   \n",
       "50%          0.000000       7.000000            5.000000                 NaN   \n",
       "75%          1.000000      14.000000            8.000000                 NaN   \n",
       "max          1.000000      20.000000           20.000000           18.000000   \n",
       "\n",
       "       Product_Category_3       Purchase       User_ID  \n",
       "count       237858.000000  550068.000000  7.836670e+05  \n",
       "mean            12.668605    9263.968713  1.003029e+06  \n",
       "std              4.125510    5023.065394  1.727267e+03  \n",
       "min              3.000000      12.000000  1.000001e+06  \n",
       "25%                   NaN            NaN  1.001519e+06  \n",
       "50%                   NaN            NaN  1.003075e+06  \n",
       "75%                   NaN            NaN  1.004478e+06  \n",
       "max             18.000000   23961.000000  1.006040e+06  "
      ]
     },
     "execution_count": 9,
     "metadata": {},
     "output_type": "execute_result"
    }
   ],
   "source": [
    "data.describe()"
   ]
  },
  {
   "cell_type": "code",
   "execution_count": 10,
   "metadata": {
    "collapsed": true
   },
   "outputs": [],
   "source": [
    "#29% of the purchases are made by married people on average. The mean\n",
    "#purchase amount is 9,200 with a sd of 5000. There is a stark range in purchase amount."
   ]
  },
  {
   "cell_type": "code",
   "execution_count": 11,
   "metadata": {
    "collapsed": false
   },
   "outputs": [
    {
     "data": {
      "text/plain": [
       "Age                               7\n",
       "City_Category                     3\n",
       "Gender                            2\n",
       "Marital_Status                    2\n",
       "Occupation                       21\n",
       "Product_Category_1               20\n",
       "Product_Category_2               18\n",
       "Product_Category_3               16\n",
       "Product_ID                     3677\n",
       "Purchase                      18106\n",
       "Stay_In_Current_City_Years        5\n",
       "User_ID                        5891\n",
       "dtype: int64"
      ]
     },
     "execution_count": 11,
     "metadata": {},
     "output_type": "execute_result"
    }
   ],
   "source": [
    "#Let's check how many unique values our dataset contains.\n",
    "\n",
    "data.apply(lambda x: len(x.unique()))"
   ]
  },
  {
   "cell_type": "code",
   "execution_count": 12,
   "metadata": {
    "collapsed": false
   },
   "outputs": [
    {
     "data": {
      "text/plain": [
       "array(['2', '4+', '3', '1', '0'], dtype=object)"
      ]
     },
     "execution_count": 12,
     "metadata": {},
     "output_type": "execute_result"
    }
   ],
   "source": [
    "#We can see we have 5891 different customers (presuming nobody has more than one ID). \n",
    "#There are 3 types of city and 21 types of occupation, but no information about how they \n",
    "#differ. There are 20 different types of product, and 3677 different products.\n",
    "#There are 5 different catergories in the stay in current city column.\n",
    "#Let's take a closer look at the individual columns.\n",
    "\n",
    "data.Stay_In_Current_City_Years.unique()"
   ]
  },
  {
   "cell_type": "code",
   "execution_count": 13,
   "metadata": {
    "collapsed": true
   },
   "outputs": [],
   "source": [
    "#There are a few ways to deal with this sort of data. I'll convert the data to numeric and \n",
    "#treat 4+ as 4. \n",
    "\n",
    "replace_dict = {'0':0,'1':1,'2':2,'3':3,'4+':4}\n",
    "\n",
    "train.Stay_In_Current_City_Years.replace(replace_dict, inplace=True)\n",
    "test.Stay_In_Current_City_Years.replace(replace_dict, inplace=True)"
   ]
  },
  {
   "cell_type": "code",
   "execution_count": 14,
   "metadata": {
    "collapsed": false
   },
   "outputs": [
    {
     "data": {
      "text/plain": [
       "array(['0-17', '55+', '26-35', '46-50', '51-55', '36-45', '18-25'], dtype=object)"
      ]
     },
     "execution_count": 14,
     "metadata": {},
     "output_type": "execute_result"
    }
   ],
   "source": [
    "data.Age.unique()"
   ]
  },
  {
   "cell_type": "code",
   "execution_count": 15,
   "metadata": {
    "collapsed": true
   },
   "outputs": [],
   "source": [
    "#I'll use the median age to change the column into a column of type int.\n",
    "#I'll also make the assumption that there are no age restrictions on purchases and that \n",
    "#under 11s aren't making any purchases. I'm also choosing to set 55 plus as 60 \n",
    "#(this is somewhat arbitrary).\n",
    "\n",
    "replace_dict = {'0-17':14,'18-25':21,'26-35':30,'36-45':40,'46-50':48,\n",
    "                '51-55':53, '55+':60}\n",
    "\n",
    "train.Age.replace(replace_dict, inplace=True)\n",
    "test.Age.replace(replace_dict, inplace=True)"
   ]
  },
  {
   "cell_type": "code",
   "execution_count": 16,
   "metadata": {
    "collapsed": false,
    "scrolled": true
   },
   "outputs": [
    {
     "data": {
      "text/html": [
       "<div>\n",
       "<table border=\"1\" class=\"dataframe\">\n",
       "  <thead>\n",
       "    <tr style=\"text-align: right;\">\n",
       "      <th></th>\n",
       "      <th>Purchase</th>\n",
       "    </tr>\n",
       "    <tr>\n",
       "      <th>Occupation</th>\n",
       "      <th></th>\n",
       "    </tr>\n",
       "  </thead>\n",
       "  <tbody>\n",
       "    <tr>\n",
       "      <th>17</th>\n",
       "      <td>9821.478236</td>\n",
       "    </tr>\n",
       "    <tr>\n",
       "      <th>12</th>\n",
       "      <td>9796.640239</td>\n",
       "    </tr>\n",
       "    <tr>\n",
       "      <th>15</th>\n",
       "      <td>9778.891163</td>\n",
       "    </tr>\n",
       "    <tr>\n",
       "      <th>8</th>\n",
       "      <td>9532.592497</td>\n",
       "    </tr>\n",
       "    <tr>\n",
       "      <th>14</th>\n",
       "      <td>9500.702772</td>\n",
       "    </tr>\n",
       "    <tr>\n",
       "      <th>7</th>\n",
       "      <td>9425.728223</td>\n",
       "    </tr>\n",
       "    <tr>\n",
       "      <th>16</th>\n",
       "      <td>9394.464349</td>\n",
       "    </tr>\n",
       "    <tr>\n",
       "      <th>5</th>\n",
       "      <td>9333.149298</td>\n",
       "    </tr>\n",
       "    <tr>\n",
       "      <th>13</th>\n",
       "      <td>9306.351061</td>\n",
       "    </tr>\n",
       "    <tr>\n",
       "      <th>6</th>\n",
       "      <td>9256.535691</td>\n",
       "    </tr>\n",
       "    <tr>\n",
       "      <th>4</th>\n",
       "      <td>9213.980251</td>\n",
       "    </tr>\n",
       "    <tr>\n",
       "      <th>11</th>\n",
       "      <td>9213.845848</td>\n",
       "    </tr>\n",
       "    <tr>\n",
       "      <th>3</th>\n",
       "      <td>9178.593088</td>\n",
       "    </tr>\n",
       "    <tr>\n",
       "      <th>18</th>\n",
       "      <td>9169.655844</td>\n",
       "    </tr>\n",
       "    <tr>\n",
       "      <th>0</th>\n",
       "      <td>9124.428588</td>\n",
       "    </tr>\n",
       "    <tr>\n",
       "      <th>10</th>\n",
       "      <td>8959.355375</td>\n",
       "    </tr>\n",
       "    <tr>\n",
       "      <th>1</th>\n",
       "      <td>8953.193270</td>\n",
       "    </tr>\n",
       "    <tr>\n",
       "      <th>2</th>\n",
       "      <td>8952.481683</td>\n",
       "    </tr>\n",
       "    <tr>\n",
       "      <th>20</th>\n",
       "      <td>8836.494905</td>\n",
       "    </tr>\n",
       "    <tr>\n",
       "      <th>19</th>\n",
       "      <td>8710.627231</td>\n",
       "    </tr>\n",
       "    <tr>\n",
       "      <th>9</th>\n",
       "      <td>8637.743761</td>\n",
       "    </tr>\n",
       "  </tbody>\n",
       "</table>\n",
       "</div>"
      ],
      "text/plain": [
       "               Purchase\n",
       "Occupation             \n",
       "17          9821.478236\n",
       "12          9796.640239\n",
       "15          9778.891163\n",
       "8           9532.592497\n",
       "14          9500.702772\n",
       "7           9425.728223\n",
       "16          9394.464349\n",
       "5           9333.149298\n",
       "13          9306.351061\n",
       "6           9256.535691\n",
       "4           9213.980251\n",
       "11          9213.845848\n",
       "3           9178.593088\n",
       "18          9169.655844\n",
       "0           9124.428588\n",
       "10          8959.355375\n",
       "1           8953.193270\n",
       "2           8952.481683\n",
       "20          8836.494905\n",
       "19          8710.627231\n",
       "9           8637.743761"
      ]
     },
     "execution_count": 16,
     "metadata": {},
     "output_type": "execute_result"
    }
   ],
   "source": [
    "#We have no information about what the various occupation types are.\n",
    "#Let's explore the average purchase by occupation.\n",
    "\n",
    "impute_group = train.pivot_table(values=[\"Purchase\"], index=[\"Occupation\"],\n",
    "                                 aggfunc=np.mean)\n",
    "impute_group.sort_values(by='Purchase', ascending=0)"
   ]
  },
  {
   "cell_type": "code",
   "execution_count": 17,
   "metadata": {
    "collapsed": true
   },
   "outputs": [],
   "source": [
    "#The range of the average purchases is around 1,200. It may be worth engineering\n",
    "#the occupations into different subsections (low, medium, high etc). However,\n",
    "#initially I will leave them seperate and use one hot encoding on the column.\n",
    "#To do so I'll convert the column to type string.\n",
    "\n",
    "train.Occupation = train.Occupation.astype(str)"
   ]
  },
  {
   "cell_type": "code",
   "execution_count": 18,
   "metadata": {
    "collapsed": false
   },
   "outputs": [
    {
     "data": {
      "text/plain": [
       "City_Category\n",
       "A    8911.939216\n",
       "B    9151.300563\n",
       "C    9719.920993\n",
       "Name: Purchase, dtype: float64"
      ]
     },
     "execution_count": 18,
     "metadata": {},
     "output_type": "execute_result"
    }
   ],
   "source": [
    "#We have no information about what the various city types are.\n",
    "#Let's explore the average purchase by city.\n",
    "\n",
    "train.pivot_table(values='Purchase', index='City_Category', aggfunc=np.mean)"
   ]
  },
  {
   "cell_type": "code",
   "execution_count": 19,
   "metadata": {
    "collapsed": false
   },
   "outputs": [
    {
     "data": {
      "text/plain": [
       "0    233599\n",
       "Name: Marital_Status, dtype: int64"
      ]
     },
     "execution_count": 19,
     "metadata": {},
     "output_type": "execute_result"
    }
   ],
   "source": [
    "#A and C are the lowest and highest spending city types respectively.\n",
    "#This may be because C is the wealthiest and A is the poorest.\n",
    "test.Marital_Status.value_counts()"
   ]
  },
  {
   "cell_type": "code",
   "execution_count": 20,
   "metadata": {
    "collapsed": false
   },
   "outputs": [
    {
     "name": "stdout",
     "output_type": "stream",
     "text": [
      "1 0\n"
     ]
    }
   ],
   "source": [
    "#All of the test sets marital statuses are set to zero. This appears to be an error. If we look\n",
    "#at the train set we can see that User 100004 is set to married on the train set but unmarried \n",
    "#on the test set.\n",
    "\n",
    "print (train.loc[7,'Marital_Status'], test.loc[7,'Marital_Status'])"
   ]
  },
  {
   "cell_type": "code",
   "execution_count": 21,
   "metadata": {
    "collapsed": true
   },
   "outputs": [],
   "source": [
    "#Let's fix it using a function.\n",
    "\n",
    "marriage_dict = train.set_index('User_ID').to_dict()['Marital_Status']\n",
    "\n",
    "def fix_marriage_col(row):\n",
    "    if row.User_ID in marriage_dict.keys():\n",
    "        return marriage_dict.get(row.User_ID)\n",
    "\n",
    "test['Marital_Status'] = test.apply(lambda row: fix_marriage_col(row), axis=1)"
   ]
  },
  {
   "cell_type": "code",
   "execution_count": 22,
   "metadata": {
    "collapsed": false
   },
   "outputs": [
    {
     "name": "stdout",
     "output_type": "stream",
     "text": [
      "0    137807\n",
      "1     95792\n",
      "Name: Marital_Status, dtype: int64\n",
      "0    324731\n",
      "1    225337\n",
      "Name: Marital_Status, dtype: int64\n"
     ]
    }
   ],
   "source": [
    "print (test.Marital_Status.value_counts()) \n",
    "print (train.Marital_Status.value_counts())       "
   ]
  },
  {
   "cell_type": "code",
   "execution_count": 23,
   "metadata": {
    "collapsed": true
   },
   "outputs": [],
   "source": [
    "#That looks a lot more plausible now!\n",
    "\n",
    "#We have a lot of NaNs in the final two product category columns. This is not\n",
    "#a problem of missing data as products may only have one category type. Given the large amount\n",
    "#of NaNs. I'll start out by dropping the two additional product category columns.\n",
    "\n",
    "train.Product_Category_1 = train.Product_Category_1.astype(str)\n",
    "test.Product_Category_1 = test.Product_Category_1.astype(str)\n",
    "\n",
    "train = train.drop(['Product_Category_2','Product_Category_3'], axis=1)\n",
    "test = test.drop(['Product_Category_2','Product_Category_3'], axis=1)"
   ]
  },
  {
   "cell_type": "code",
   "execution_count": 24,
   "metadata": {
    "collapsed": false
   },
   "outputs": [
    {
     "data": {
      "text/plain": [
       "User_ID                        5891\n",
       "Product_ID                     3631\n",
       "Gender                            2\n",
       "Age                               7\n",
       "Occupation                       21\n",
       "City_Category                     3\n",
       "Stay_In_Current_City_Years        5\n",
       "Marital_Status                    2\n",
       "Product_Category_1               20\n",
       "Purchase                      18105\n",
       "dtype: int64"
      ]
     },
     "execution_count": 24,
     "metadata": {},
     "output_type": "execute_result"
    }
   ],
   "source": [
    "train.apply(lambda x: len(x.unique()))"
   ]
  },
  {
   "cell_type": "code",
   "execution_count": 25,
   "metadata": {
    "collapsed": false
   },
   "outputs": [
    {
     "data": {
      "text/plain": [
       "User_ID                       5891\n",
       "Product_ID                    3491\n",
       "Gender                           2\n",
       "Age                              7\n",
       "Occupation                      21\n",
       "City_Category                    3\n",
       "Stay_In_Current_City_Years       5\n",
       "Marital_Status                   2\n",
       "Product_Category_1              18\n",
       "dtype: int64"
      ]
     },
     "execution_count": 25,
     "metadata": {},
     "output_type": "execute_result"
    }
   ],
   "source": [
    "test.apply(lambda x: len(x.unique()))"
   ]
  },
  {
   "cell_type": "code",
   "execution_count": 26,
   "metadata": {
    "collapsed": false
   },
   "outputs": [
    {
     "name": "stdout",
     "output_type": "stream",
     "text": [
      "[{'19', '20'}]\n"
     ]
    }
   ],
   "source": [
    "#We can see that there is a discrepancy between the counts for product category 1. The train\n",
    "#set has two more counts than the test set. In order to rectify this we'll have to remember\n",
    "#to add in the extra dummy columns to the test set.\n",
    "\n",
    "train_vals = train.Product_Category_1.unique()\n",
    "test_vals = test.Product_Category_1.unique()\n",
    "\n",
    "unique_vals = [set(train_vals) - set(test_vals)]\n",
    "\n",
    "print (unique_vals)\n",
    "#19 and 20 are the values we should add to the test set."
   ]
  },
  {
   "cell_type": "code",
   "execution_count": 27,
   "metadata": {
    "collapsed": false
   },
   "outputs": [
    {
     "data": {
      "text/plain": [
       "<matplotlib.axes._subplots.AxesSubplot at 0x1ef90f3a0f0>"
      ]
     },
     "execution_count": 27,
     "metadata": {},
     "output_type": "execute_result"
    },
    {
     "data": {
      "image/png": "[encoded data removed]",
      "text/plain": [
       "<matplotlib.figure.Figure at 0x1ef90f3abe0>"
      ]
     },
     "metadata": {},
     "output_type": "display_data"
    }
   ],
   "source": [
    "train.groupby(\"User_ID\")[\"Purchase\"].sum().hist()"
   ]
  },
  {
   "cell_type": "code",
   "execution_count": 28,
   "metadata": {
    "collapsed": true
   },
   "outputs": [],
   "source": [
    "#create a new feature representing the amount of times a user made a purchase.\n",
    "train['User_Count'] = train.groupby('User_ID').User_ID.transform('count')\n",
    "test['User_Count'] = test.groupby('User_ID').User_ID.transform('count')\n",
    "\n",
    "#create a feature representing the amount of times a product was bought.\n",
    "train['Product_Count'] = train.groupby('Product_ID').Product_ID.transform('count')\n",
    "test['Product_Count'] = test.groupby('Product_ID').Product_ID.transform('count')\n",
    "\n",
    "#create a feature representing the average purchase of each product. We'll have to create\n",
    "#a function for the test set as it is missing the purchase column.\n",
    "\n",
    "train['Product_Mean'] = train.groupby('Product_ID').Purchase.transform('mean')\n",
    "\n",
    "product_mean_dict = train.set_index('Product_ID').to_dict()['Purchase']\n",
    "average_product_sales = train.Product_Mean.mean()\n",
    "\n",
    "def product_mean(row):\n",
    "    if row.Product_ID in product_mean_dict.keys():\n",
    "        return product_mean_dict.get(row.Product_ID)    \n",
    "    if row.Product_ID not in product_mean_dict.keys():\n",
    "        return average_product_sales        \n",
    "\n",
    "test['Product_Mean'] = test.apply(lambda row: product_mean(row), axis=1)"
   ]
  },
  {
   "cell_type": "code",
   "execution_count": 29,
   "metadata": {
    "collapsed": false,
    "scrolled": true
   },
   "outputs": [
    {
     "data": {
      "text/html": [
       "<div>\n",
       "<table border=\"1\" class=\"dataframe\">\n",
       "  <thead>\n",
       "    <tr style=\"text-align: right;\">\n",
       "      <th></th>\n",
       "      <th>User_ID</th>\n",
       "      <th>Product_ID</th>\n",
       "      <th>Gender</th>\n",
       "      <th>Age</th>\n",
       "      <th>Occupation</th>\n",
       "      <th>City_Category</th>\n",
       "      <th>Stay_In_Current_City_Years</th>\n",
       "      <th>Marital_Status</th>\n",
       "      <th>Product_Category_1</th>\n",
       "      <th>Purchase</th>\n",
       "      <th>User_Count</th>\n",
       "      <th>Product_Count</th>\n",
       "      <th>Product_Mean</th>\n",
       "    </tr>\n",
       "  </thead>\n",
       "  <tbody>\n",
       "    <tr>\n",
       "      <th>0</th>\n",
       "      <td>1000001</td>\n",
       "      <td>P00069042</td>\n",
       "      <td>F</td>\n",
       "      <td>14</td>\n",
       "      <td>10</td>\n",
       "      <td>A</td>\n",
       "      <td>2</td>\n",
       "      <td>0</td>\n",
       "      <td>3</td>\n",
       "      <td>8370</td>\n",
       "      <td>35</td>\n",
       "      <td>227</td>\n",
       "      <td>11870.863436</td>\n",
       "    </tr>\n",
       "    <tr>\n",
       "      <th>1</th>\n",
       "      <td>1000001</td>\n",
       "      <td>P00248942</td>\n",
       "      <td>F</td>\n",
       "      <td>14</td>\n",
       "      <td>10</td>\n",
       "      <td>A</td>\n",
       "      <td>2</td>\n",
       "      <td>0</td>\n",
       "      <td>1</td>\n",
       "      <td>15200</td>\n",
       "      <td>35</td>\n",
       "      <td>581</td>\n",
       "      <td>16304.030981</td>\n",
       "    </tr>\n",
       "    <tr>\n",
       "      <th>2</th>\n",
       "      <td>1000001</td>\n",
       "      <td>P00087842</td>\n",
       "      <td>F</td>\n",
       "      <td>14</td>\n",
       "      <td>10</td>\n",
       "      <td>A</td>\n",
       "      <td>2</td>\n",
       "      <td>0</td>\n",
       "      <td>12</td>\n",
       "      <td>1422</td>\n",
       "      <td>35</td>\n",
       "      <td>102</td>\n",
       "      <td>1237.892157</td>\n",
       "    </tr>\n",
       "    <tr>\n",
       "      <th>3</th>\n",
       "      <td>1000001</td>\n",
       "      <td>P00085442</td>\n",
       "      <td>F</td>\n",
       "      <td>14</td>\n",
       "      <td>10</td>\n",
       "      <td>A</td>\n",
       "      <td>2</td>\n",
       "      <td>0</td>\n",
       "      <td>12</td>\n",
       "      <td>1057</td>\n",
       "      <td>35</td>\n",
       "      <td>341</td>\n",
       "      <td>1455.140762</td>\n",
       "    </tr>\n",
       "    <tr>\n",
       "      <th>4</th>\n",
       "      <td>1000002</td>\n",
       "      <td>P00285442</td>\n",
       "      <td>M</td>\n",
       "      <td>60</td>\n",
       "      <td>16</td>\n",
       "      <td>C</td>\n",
       "      <td>4</td>\n",
       "      <td>0</td>\n",
       "      <td>8</td>\n",
       "      <td>7969</td>\n",
       "      <td>77</td>\n",
       "      <td>203</td>\n",
       "      <td>7692.763547</td>\n",
       "    </tr>\n",
       "  </tbody>\n",
       "</table>\n",
       "</div>"
      ],
      "text/plain": [
       "   User_ID Product_ID Gender  Age Occupation City_Category  \\\n",
       "0  1000001  P00069042      F   14         10             A   \n",
       "1  1000001  P00248942      F   14         10             A   \n",
       "2  1000001  P00087842      F   14         10             A   \n",
       "3  1000001  P00085442      F   14         10             A   \n",
       "4  1000002  P00285442      M   60         16             C   \n",
       "\n",
       "   Stay_In_Current_City_Years  Marital_Status Product_Category_1  Purchase  \\\n",
       "0                           2               0                  3      8370   \n",
       "1                           2               0                  1     15200   \n",
       "2                           2               0                 12      1422   \n",
       "3                           2               0                 12      1057   \n",
       "4                           4               0                  8      7969   \n",
       "\n",
       "   User_Count  Product_Count  Product_Mean  \n",
       "0          35            227  11870.863436  \n",
       "1          35            581  16304.030981  \n",
       "2          35            102   1237.892157  \n",
       "3          35            341   1455.140762  \n",
       "4          77            203   7692.763547  "
      ]
     },
     "execution_count": 29,
     "metadata": {},
     "output_type": "execute_result"
    }
   ],
   "source": [
    "#Let's see what the data looks like now. \n",
    "train.head()"
   ]
  },
  {
   "cell_type": "code",
   "execution_count": 30,
   "metadata": {
    "collapsed": false
   },
   "outputs": [],
   "source": [
    "#Most machine learning frameworks only accept numerical data as input. Let's get the dummy\n",
    "#variables we need for the data to be in a valid format.\n",
    "\n",
    "cols = ['Gender', 'Occupation', 'City_Category', 'Marital_Status', 'Product_Category_1']\n",
    "\n",
    "train = pd.get_dummies(train, columns=cols)\n",
    "test = pd.get_dummies(test, columns=cols)"
   ]
  },
  {
   "cell_type": "code",
   "execution_count": 31,
   "metadata": {
    "collapsed": false
   },
   "outputs": [
    {
     "name": "stdout",
     "output_type": "stream",
     "text": [
      "(233599, 53) (550068, 56)\n"
     ]
    }
   ],
   "source": [
    "print(test.shape, train.shape)"
   ]
  },
  {
   "cell_type": "code",
   "execution_count": 32,
   "metadata": {
    "collapsed": false
   },
   "outputs": [
    {
     "name": "stdout",
     "output_type": "stream",
     "text": [
      "46\n"
     ]
    }
   ],
   "source": [
    "#Add missing product categories to test set.\n",
    "\n",
    "print(train.columns.get_loc('Product_Category_1_19'))\n",
    "\n",
    "test.insert(45, 'Product_Category_1_19', 0.0)\n",
    "#test.insert(45, 'Product_Category_1_20', 0.0)"
   ]
  },
  {
   "cell_type": "code",
   "execution_count": 33,
   "metadata": {
    "collapsed": false
   },
   "outputs": [
    {
     "name": "stdout",
     "output_type": "stream",
     "text": [
      "48\n"
     ]
    }
   ],
   "source": [
    "print(train.columns.get_loc('Product_Category_1_20'))\n",
    "\n",
    "test.insert(47, 'Product_Category_1_20', 0.0)"
   ]
  },
  {
   "cell_type": "code",
   "execution_count": 35,
   "metadata": {
    "collapsed": false
   },
   "outputs": [
    {
     "name": "stdout",
     "output_type": "stream",
     "text": [
      "(233599, 55) (550068, 56)\n"
     ]
    }
   ],
   "source": [
    "print(test.shape, train.shape)"
   ]
  },
  {
   "cell_type": "code",
   "execution_count": 37,
   "metadata": {
    "collapsed": true
   },
   "outputs": [],
   "source": [
    "#Create new csv files for the modified train and test sets.\n",
    "\n",
    "test.to_csv('black_test_for_eda.csv', index=False)\n",
    "train.to_csv('black_train_for_eda.csv', index=False)"
   ]
  }
 ],
 "metadata": {
  "anaconda-cloud": {},
  "kernelspec": {
   "display_name": "Python [Root]",
   "language": "python",
   "name": "Python [Root]"
  },
  "language_info": {
   "codemirror_mode": {
    "name": "ipython",
    "version": 3
   },
   "file_extension": ".py",
   "mimetype": "text/x-python",
   "name": "python",
   "nbconvert_exporter": "python",
   "pygments_lexer": "ipython3",
   "version": "3.5.2"
  }
 },
 "nbformat": 4,
 "nbformat_minor": 0
}
