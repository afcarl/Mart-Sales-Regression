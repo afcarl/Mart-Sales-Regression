{
 "cells": [
  {
   "cell_type": "code",
   "execution_count": null,
   "metadata": {
    "collapsed": true
   },
   "outputs": [],
   "source": [
    "import pandas as pd\n",
    "import numpy as np\n",
    "import matplotlib.pyplot as plt\n",
    "import seaborn as sns\n",
    "\n",
    "%matplotlib inline\n",
    "\n",
    "loc = r\"C:\\Users\\me\\Documents\\datasets\\black_train_for_eda.csv\"\n",
    "loc2 = r\"C:\\Users\\me\\Documents\\datasets\\black_test_for_eda.csv\"\n",
    "\n",
    "train = pd.read_csv(loc)\n",
    "test = pd.read_csv(loc2)"
   ]
  },
  {
   "cell_type": "code",
   "execution_count": null,
   "metadata": {
    "collapsed": true
   },
   "outputs": [],
   "source": [
    "#Let's start by making a baseline model to compare our models with. \n",
    "\n",
    "mean_sales = train['Purchase'].mean()\n",
    "\n",
    "#Create a df for submission the format is shown below.\n",
    "\n",
    "base1 = test[['User_ID','Product_ID']]\n",
    "base1['Purchase'] = mean_sales\n",
    "\n",
    "#Export csv for submission\n",
    "base1.to_csv('1st.csv', index=False)\n",
    "\n",
    "#The leaderboard score is 4982.319944"
   ]
  }
 ],
 "metadata": {
  "anaconda-cloud": {},
  "kernelspec": {
   "display_name": "Python [Root]",
   "language": "python",
   "name": "Python [Root]"
  },
  "language_info": {
   "codemirror_mode": {
    "name": "ipython",
    "version": 3
   },
   "file_extension": ".py",
   "mimetype": "text/x-python",
   "name": "python",
   "nbconvert_exporter": "python",
   "pygments_lexer": "ipython3",
   "version": "3.5.2"
  }
 },
 "nbformat": 4,
 "nbformat_minor": 0
}
