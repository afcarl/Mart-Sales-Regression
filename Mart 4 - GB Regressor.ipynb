{
 "cells": [
  {
   "cell_type": "code",
   "execution_count": 1,
   "metadata": {
    "collapsed": true
   },
   "outputs": [],
   "source": [
    "#To make predictions I will use a gradient boosting method.\n",
    "#For more info see: https://en.wikipedia.org/wiki/Gradient_boosting\n",
    "\n",
    "import pandas as pd\n",
    "import numpy as np\n",
    "from sklearn.grid_search import GridSearchCV\n",
    "from sklearn.ensemble import GradientBoostingRegressor\n",
    "\n",
    "loc = r\"C:\\Users\\me\\Documents\\datasets\\black_train_for_eda.csv\"\n",
    "loc2 = r\"C:\\Users\\me\\Documents\\datasets\\black_test_for_eda.csv\"\n",
    "\n",
    "train = pd.read_csv(loc)\n",
    "test = pd.read_csv(loc2)"
   ]
  },
  {
   "cell_type": "code",
   "execution_count": 2,
   "metadata": {
    "collapsed": true
   },
   "outputs": [],
   "source": [
    "#Shuffle train set. \n",
    "#I'm taking a 60k sample of it for computational efficiency for this demonstration. \n",
    "#If you have a powerful enough computer feel free to use all of the training data.\n",
    "\n",
    "train = train.sample(frac=1).reset_index(drop=True)\n",
    "train = train[:60000]"
   ]
  },
  {
   "cell_type": "code",
   "execution_count": 3,
   "metadata": {
    "collapsed": true
   },
   "outputs": [],
   "source": [
    "#Remove unnecessary columns.\n",
    "\n",
    "train = train.drop(['User_ID','Product_ID'], axis=1)\n",
    "submit = pd.DataFrame(test, columns=['User_ID','Product_ID'])\n",
    "test = test.drop(['User_ID','Product_ID'], axis=1) "
   ]
  },
  {
   "cell_type": "code",
   "execution_count": 4,
   "metadata": {
    "collapsed": true
   },
   "outputs": [],
   "source": [
    "#Create valuation set and separate target from training and valuation set.\n",
    "\n",
    "val = train[50000:60000]\n",
    "train = train[:50000]\n",
    "y_train = train.Purchase\n",
    "y_val = val.Purchase\n",
    "\n",
    "X_train = train.drop('Purchase', axis=1)\n",
    "X_val = val.drop('Purchase', axis=1)"
   ]
  },
  {
   "cell_type": "code",
   "execution_count": null,
   "metadata": {
    "collapsed": true
   },
   "outputs": [],
   "source": [
    "#Create a function to find optimal hyperparameters for our model. The reason we have to\n",
    "#use a function is due to the way Python uses parallelization on Windows.\n",
    "#https://www.kaggle.com/c/malware-classification/forums/t/12802/\n",
    "#anyone-getting-parallelizing-error-for-scikit-learn-based-models-in-python/66187#post66187\n",
    "\n",
    "#Note numerous different values were used in the param_grid to hone in on the best paramater\n",
    "#combinations. The param grid below is what I ended up with after running the model several \n",
    "#times (50ish!)\n",
    "\n",
    "def model(X_train, X_val, y_train, y_val):\n",
    "    if __name__ == '__main__':\n",
    "        \n",
    "        param_grid = {'learning_rate': [0.047],\n",
    "                      'max_depth': [9],\n",
    "                      'min_samples_leaf': [18],\n",
    "                      'max_features': [0.88],\n",
    "                      'n_estimators': [100, 300, 500]\n",
    "                      }\n",
    "\n",
    "        estimator = GridSearchCV(estimator=GradientBoostingRegressor(),\n",
    "                                 param_grid=param_grid,\n",
    "                                 n_jobs=-1)\n",
    "\n",
    "        estimator.fit(X_train, y_train)\n",
    "\n",
    "        best_params = estimator.best_params_\n",
    "                                 \n",
    "        validation_accuracy = estimator.score(X_val, y_val)\n",
    "        print('Validation accuracy: ', validation_accuracy)\n",
    "        return best_params"
   ]
  },
  {
   "cell_type": "code",
   "execution_count": null,
   "metadata": {
    "collapsed": true
   },
   "outputs": [],
   "source": [
    "#Fit model with best paramters then make predictions on the test set.\n",
    "\n",
    "model = GradientBoostingRegressor(learning_rate=0.047,\n",
    "                          max_depth=9,\n",
    "                          min_samples_leaf=18,\n",
    "                          max_features=0.88,\n",
    "                          n_estimators=300)\n",
    "\n",
    "model.fit(X_train, y_train)\n",
    "\n",
    "preds = model.predict(test)"
   ]
  },
  {
   "cell_type": "code",
   "execution_count": null,
   "metadata": {
    "collapsed": true
   },
   "outputs": [],
   "source": [
    "#Create dataframe for submission to the data mining competition.\n",
    "\n",
    "submit = pd.DataFrame({'User_ID' : User_ID,\n",
    "                       'Product_ID' : Product_ID,\n",
    "                       'Purchase' : preds})\n",
    "\n",
    "submit = submit.reindex_axis(['User_ID', 'Product_ID', 'Purchase'], axis=1)"
   ]
  },
  {
   "cell_type": "code",
   "execution_count": null,
   "metadata": {
    "collapsed": true
   },
   "outputs": [],
   "source": [
    "#This model is the best that I have came up with so far. It scored 4223.02891 on the \n",
    "#leaderboard, beating the baseline model (4982.31994)."
   ]
  },
  {
   "cell_type": "code",
   "execution_count": null,
   "metadata": {
    "collapsed": true
   },
   "outputs": [],
   "source": [
    "submit.Purchase.describe()"
   ]
  },
  {
   "cell_type": "code",
   "execution_count": null,
   "metadata": {
    "collapsed": true
   },
   "outputs": [],
   "source": [
    "#The min value here is -1956.66, clearly negative values are errors. We can't have negative\n",
    "#purchase values!"
   ]
  },
  {
   "cell_type": "code",
   "execution_count": null,
   "metadata": {
    "collapsed": true
   },
   "outputs": [],
   "source": [
    "submit.Purchase.hist(bins=30)"
   ]
  },
  {
   "cell_type": "code",
   "execution_count": null,
   "metadata": {
    "collapsed": true
   },
   "outputs": [],
   "source": [
    "#Here we can see that there are a fair amount of impossible predictions.\n",
    "#Let's set the negative predictions to different values and see if our score improves."
   ]
  },
  {
   "cell_type": "code",
   "execution_count": null,
   "metadata": {
    "collapsed": true
   },
   "outputs": [],
   "source": [
    "#After testing various different numbers the best turned out to be 11,000.\n",
    "submit.Purchase[submit.Purchase == 9000] = 11000\n",
    "\n",
    "#Best score: 4052.9933497"
   ]
  }
 ],
 "metadata": {
  "anaconda-cloud": {},
  "kernelspec": {
   "display_name": "Python [Root]",
   "language": "python",
   "name": "Python [Root]"
  },
  "language_info": {
   "codemirror_mode": {
    "name": "ipython",
    "version": 3
   },
   "file_extension": ".py",
   "mimetype": "text/x-python",
   "name": "python",
   "nbconvert_exporter": "python",
   "pygments_lexer": "ipython3",
   "version": "3.5.2"
  }
 },
 "nbformat": 4,
 "nbformat_minor": 0
}
